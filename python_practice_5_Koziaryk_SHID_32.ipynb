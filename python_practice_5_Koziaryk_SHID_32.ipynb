{
  "cells": [
    {
      "cell_type": "markdown",
      "metadata": {
        "id": "awfU0tMnOlHH"
      },
      "source": [
        "# I. OOP"
      ]
    },
    {
      "cell_type": "markdown",
      "metadata": {
        "id": "T6r88C4sOwbI"
      },
      "source": [
        "1. (7б). Створіть клас Animal, додайте docstring, три атрибути, один з яких має значення за замовчуванням та два методи на свій розсуд."
      ]
    },
    {
      "cell_type": "code",
      "execution_count": null,
      "metadata": {
        "colab": {
          "base_uri": "https://localhost:8080/"
        },
        "id": "fWXuCGV8Oqrn",
        "outputId": "57f7458f-3b82-460d-bd65-4a9fefd433e6"
      },
      "outputs": [],
      "source": [
        "class Animal:\n",
        "  '''Цей текст для docstring'''\n",
        "  def __init__(self, name, age, species, sound='No sound'):\n",
        "    \"\"\"\n",
        "    Параметри:\n",
        "        - name (str): Ім'я тварини.\n",
        "        - age (int): Вік тварини.\n",
        "        - species (str): Вид тварини.\n",
        "        - sound (str): Звук, який видає тварина (за замовчуванням 'No sound').\n",
        "    \"\"\"\n",
        "    self.name = name\n",
        "    self.age = age\n",
        "    self.species = species\n",
        "    self.sound = sound\n",
        "\n",
        "  def make_sound(self):\n",
        "    \"\"\"Метод для виведення звуку тварини.\"\"\"\n",
        "    print(f\"{self.name} видає звук: {self.sound}\")\n",
        "\n",
        "  def demo_animal(self):\n",
        "    \"\"\"Виводить повідомлення, з інформацією про тварину.\"\"\"\n",
        "    print(f\"It is {self.species} {self.name}. It's {self.age} old.\")\n",
        "\n",
        "my_animal = Animal('Alex', 5, 'Lion')\n",
        "\n",
        "my_animal.demo_animal()\n",
        "my_animal.make_sound()"
      ]
    },
    {
      "cell_type": "markdown",
      "metadata": {
        "id": "CTu5Dt0_UKul"
      },
      "source": [
        "1.1. (5б). Створіть два обʼєкти цього класу. На одному обʼєкті отримайте значення його атрибуту, а на іншому викличте один з його методів."
      ]
    },
    {
      "cell_type": "code",
      "execution_count": null,
      "metadata": {
        "colab": {
          "base_uri": "https://localhost:8080/"
        },
        "id": "nLQqAIlKUQRP",
        "outputId": "a58563d8-c8a3-4897-b5ec-697f354dd365"
      },
      "outputs": [
        {
          "name": "stdout",
          "output_type": "stream",
          "text": [
            "Melman видає звук: No sound\n",
            "Jeck належить до виду Dog і видає звук: Гаф\n"
          ]
        }
      ],
      "source": [
        "animal1 = Animal(\"Melman\", 6, \"Giraffe\")\n",
        "animal1.make_sound()\n",
        "\n",
        "animal2 = Animal(\"Jeck\", 2, \"Dog\", \"Гаф\")\n",
        "print(f\"{animal2.name} належить до виду {animal2.species} і видає звук: {animal2.sound}\")"
      ]
    },
    {
      "cell_type": "markdown",
      "metadata": {
        "id": "3KKpQYcWRNgj"
      },
      "source": [
        "2. (9б). Створіть клас, де атрибути мають різні рівні доступу. Спробуйте отримати їхні значення та опишіть результати."
      ]
    },
    {
      "cell_type": "code",
      "execution_count": null,
      "metadata": {
        "id": "PlMQmzciRM_D"
      },
      "outputs": [],
      "source": [
        "class DataBace:\n",
        "    def __init__(self,name, age, height):\n",
        "        self.__name = name\n",
        "        self.__age = age\n",
        "        self.birth_date = None\n",
        "        self.height = height\n",
        "\n",
        "    def get_name(self):\n",
        "        return self.__name\n",
        "\n",
        "    def set_age(self, new_attr_val):\n",
        "        if (isinstance(new_attr_val, int)\n",
        "            or isinstance(new_attr_val, float)):\n",
        "            self.__age = new_attr_val\n",
        "\n",
        "    def get_age(self):\n",
        "        return self.__age\n",
        "\n",
        "    def _protected_attribute(self):\n",
        "        print('Ні. Це захищений атрибут')\n",
        "\n",
        "    def __private_attribute(self):\n",
        "        print('Це приватний атрибут')"
      ]
    },
    {
      "cell_type": "code",
      "execution_count": null,
      "metadata": {
        "colab": {
          "base_uri": "https://localhost:8080/",
          "height": 36
        },
        "id": "h6sT4E0C4k2F",
        "outputId": "6dd950f4-7bb5-4e9f-caf8-f1680942c493"
      },
      "outputs": [
        {
          "data": {
            "application/vnd.google.colaboratory.intrinsic+json": {
              "type": "string"
            },
            "text/plain": [
              "'Danil'"
            ]
          },
          "execution_count": 36,
          "metadata": {},
          "output_type": "execute_result"
        }
      ],
      "source": [
        "DataBace('Danil', 19, 178).get_name()"
      ]
    },
    {
      "cell_type": "code",
      "execution_count": null,
      "metadata": {
        "colab": {
          "base_uri": "https://localhost:8080/"
        },
        "id": "bd_mA2d95C3B",
        "outputId": "850d7da5-1cf5-4a24-ebbd-b390e3ec382d"
      },
      "outputs": [
        {
          "name": "stdout",
          "output_type": "stream",
          "text": [
            "Ні. Це захищений атрибут\n"
          ]
        }
      ],
      "source": [
        "DataBace('Danil', 19, 178)._protected_attribute()"
      ]
    },
    {
      "cell_type": "code",
      "execution_count": null,
      "metadata": {
        "colab": {
          "base_uri": "https://localhost:8080/",
          "height": 175
        },
        "id": "U718qG8a5KCX",
        "outputId": "7f58f69d-146a-4690-9455-a6f82fde7de0"
      },
      "outputs": [],
      "source": [
        "DataBace('Danil', 19, 178).__private_attribute()"
      ]
    },
    {
      "cell_type": "markdown",
      "metadata": {
        "id": "iaoOLp4RRZyc"
      },
      "source": [
        "3. (8б). Як ви розумієте термін self? Для чого використовується метод __init __?"
      ]
    },
    {
      "cell_type": "markdown",
      "metadata": {
        "id": "-yuvBRjFRlz5"
      },
      "source": [
        "*місце для відповіді*\n",
        "\n",
        "\n",
        "\"self\" - це спеціальне ключове слово, яке вказує на сам об'єкт класу. Коли визивається метод чи атрибут класу, щоб можна було працювати з його атрибутами та методами.\n",
        "\n",
        "Метод \"___init __\" використовується для ініціалізації об'єкта класу."
      ]
    },
    {
      "cell_type": "markdown",
      "metadata": {
        "id": "nVectYeATZAi"
      },
      "source": [
        "4. (8б). Створіть клас Фігура без атрибутів, з методом get_area для отримання площі фігури, що повертає 0 та __add __, який приймає self та other в якості аргументів, а повертає суму площин фігур self та other."
      ]
    },
    {
      "cell_type": "code",
      "execution_count": null,
      "metadata": {
        "id": "EYvcpzHbRZLz"
      },
      "outputs": [],
      "source": [
        "class Figure:\n",
        "  def __add__(self, other):\n",
        "    result = Figure()\n",
        "    result_area = self.get_area() + other.get_area()\n",
        "    result.set_area(result_area)\n",
        "    return result\n",
        "\n",
        "  def get_area(self):\n",
        "    return 0\n",
        "\n",
        "  def set_area(self, area):\n",
        "    pass"
      ]
    },
    {
      "cell_type": "markdown",
      "metadata": {
        "id": "PheOkqlCg9SD"
      },
      "source": [
        "5. (11б). Створіть 2 дочірніх класи від Фігури: Трикутник та Коло, які мають атрибути, необхідні для розрахунку площин. Визначте метод get_area в кожному з них так, щоби вони розраховували площу в залежності від формули для кожного типу фігури. Створіть обʼєкт класу Трикутник та обʼєкт класу Коло. Виконайте операцію суми за допомогою оператора + між ними."
      ]
    },
    {
      "cell_type": "code",
      "execution_count": null,
      "metadata": {
        "colab": {
          "base_uri": "https://localhost:8080/"
        },
        "id": "7Jo8-rqlhNSw",
        "outputId": "a021d9ee-a510-45f6-89e8-074b002abd80"
      },
      "outputs": [
        {
          "name": "stdout",
          "output_type": "stream",
          "text": [
            "Площа трикутника: 20.0\n",
            "Площа кола: 28.274333882308138\n",
            "Сума площини фігур: 0\n"
          ]
        }
      ],
      "source": [
        "import math\n",
        "\n",
        "class Figure:\n",
        "  def __add__(self, other):\n",
        "    result = Figure()\n",
        "    result_area = self.get_area() + other.get_area()\n",
        "    result.set_area(result_area)\n",
        "    return result\n",
        "\n",
        "  def get_area(self):\n",
        "    return 0\n",
        "\n",
        "  def set_area(self, area):\n",
        "    pass\n",
        "\n",
        "\n",
        "class Triangle(Figure):\n",
        "  def __init__(self, base, height):\n",
        "    \"\"\"Ініціалізує об'єкт класу Triangle зa вказаною базою та висотою.\"\"\"\n",
        "    self.base = base\n",
        "    self.height = height\n",
        "\n",
        "  def get_area(self):\n",
        "    \"\"\"Метод для обчислення площі трикутника: (1/2) * base * height.\"\"\"\n",
        "    return 0.5 * self.base * self.height\n",
        "\n",
        "\n",
        "class Circle(Figure):\n",
        "  def __init__(self, radius):\n",
        "    \"\"\"Ініціалізує об'єкт класу Circle з вказаним радіусом.\"\"\"\n",
        "    self.radius = radius\n",
        "\n",
        "  def get_area(self):\n",
        "    \"\"\"Метод для обчислення площі кола: π * radius^2.\"\"\"\n",
        "    return math.pi * self.radius ** 2\n",
        "\n",
        "\n",
        "triangle = Triangle(base=5, height=8)\n",
        "circle = Circle(radius=3)\n",
        "\n",
        "print(f\"Площа трикутника: {triangle.get_area()}\")\n",
        "print(f\"Площа кола: {circle.get_area()}\")\n",
        "\n",
        "combined_figure = triangle + circle\n",
        "print(f\"Сума площини фігур: {combined_figure.get_area()}\")\n"
      ]
    },
    {
      "cell_type": "markdown",
      "metadata": {
        "id": "WxW51aGIhN2q"
      },
      "source": [
        "6. (7б). Продемонструйте різницю між isinstance та issubclass."
      ]
    },
    {
      "cell_type": "code",
      "execution_count": null,
      "metadata": {
        "id": "E-QybeYShdAu"
      },
      "outputs": [],
      "source": [
        "class University:\n",
        "  pass\n",
        "\n",
        "class Student(University):\n",
        "  pass"
      ]
    },
    {
      "cell_type": "code",
      "execution_count": null,
      "metadata": {
        "colab": {
          "base_uri": "https://localhost:8080/"
        },
        "id": "hqwmQQ8p-WhA",
        "outputId": "03b05966-7cc3-45b0-a3ad-1027b4534b3b"
      },
      "outputs": [
        {
          "name": "stdout",
          "output_type": "stream",
          "text": [
            "True\n",
            "True\n"
          ]
        }
      ],
      "source": [
        "# isinstance\n",
        "\"\"\" 'isinstance' використовується для визначення, чи об'єкт є екземпляром певного класу  \"\"\"\n",
        "\n",
        "student_instance = Student()\n",
        "\n",
        "print(isinstance(student_instance, Student))\n",
        "print(isinstance(student_instance, University))"
      ]
    },
    {
      "cell_type": "code",
      "execution_count": null,
      "metadata": {
        "colab": {
          "base_uri": "https://localhost:8080/"
        },
        "id": "ieDDD5VK-Xd7",
        "outputId": "88f6471c-b1e8-46c9-f47e-e641ac52f758"
      },
      "outputs": [
        {
          "name": "stdout",
          "output_type": "stream",
          "text": [
            "True\n",
            "False\n"
          ]
        }
      ],
      "source": [
        "# issubclass\n",
        "\"\"\" 'issubclass' використовується для визначення, чи один клас є підкласом іншого класу. \"\"\"\n",
        "\n",
        "print(issubclass(Student, University))\n",
        "print(issubclass(University, Student))"
      ]
    },
    {
      "cell_type": "markdown",
      "metadata": {
        "id": "Mrup7UL3hfC3"
      },
      "source": [
        "7. (16б). Створіть клас BankAccount з приватними атрибутами balance та account_number.\n",
        "Реалізуйте методи поповнення та зняття коштів, забезпечивши належну інкапсуляцію. Підказка: використовуйте декоратори getter та setter."
      ]
    },
    {
      "cell_type": "code",
      "execution_count": null,
      "metadata": {
        "id": "ISJcB5ieMgsm"
      },
      "outputs": [],
      "source": [
        "class BankAccount:\n",
        "    def __init__(self):\n",
        "        self._account_number = input(\"Введіть номер рахунку: \")\n",
        "        initial_balance = float(input(\"Введіть початковий баланс: \"))\n",
        "        self._balance = initial_balance\n",
        "\n",
        "        while True:\n",
        "          action = input(\"Оберіть дію: '1'-поповнення, '2'-зняття, '3'-закінчити операцію та вийти: \")\n",
        "          if action == '1':\n",
        "              self.deposit()\n",
        "          elif action == '2':\n",
        "              self.withdraw()\n",
        "          elif action == '3':\n",
        "              self.check_balance()\n",
        "              break\n",
        "          else:\n",
        "              print(\"Помилка! Повторіть дію знову.\")\n",
        "\n",
        "    @property\n",
        "    def balance(self):\n",
        "        \"\"\"Getter для отримання значення балансу.\"\"\"\n",
        "        return self._balance\n",
        "\n",
        "    def account_number(self):\n",
        "        \"\"\"Getter для отримання значення номеру рахунку.\"\"\"\n",
        "        return self._account_number\n",
        "\n",
        "    @balance.setter\n",
        "    def balance(self, new_balance):\n",
        "        \"\"\"Setter для встановлення нового значення балансу.\"\"\"\n",
        "        if new_balance >= 0:\n",
        "            self._balance = new_balance\n",
        "        else:\n",
        "            print(\"Помилка! Баланс не може бути від'ємним.\")\n",
        "\n",
        "    def deposit(self):\n",
        "        \"\"\"Метод для поповнення рахунку.\"\"\"\n",
        "        amount = float(input(\"Введіть суму для поповнення балансу: \"))\n",
        "        if amount > 0:\n",
        "            self._balance += amount\n",
        "            print(f\"Баланс поповнено на {amount} грн успішно. Новий баланс становить: {self._balance} грн.\")\n",
        "        else:\n",
        "            print(\"Сума для поповнення має бути більше 0 грн.\")\n",
        "\n",
        "    def confirm_withdraw(self):\n",
        "        \"\"\"Функція для підтвердження зняття грошей.\"\"\"\n",
        "        answer = input(\"Ви хочете зняти гроші зі свого балансу? ('1'-Так/'2'-Ні): \").lower()\n",
        "        return answer == \"1\"\n",
        "\n",
        "    def withdraw(self):\n",
        "        \"\"\"Метод для зняття грошей з рахунку.\"\"\"\n",
        "        if self.confirm_withdraw():\n",
        "            amount = float(input(\"Введіть суму для зняття: \"))\n",
        "            if 0 < amount <= self._balance:\n",
        "                self._balance -= amount\n",
        "                print(f\"Зняття {amount} грн пройшло успішно. Новий баланс становить: {self._balance} грн.\")\n",
        "            else:\n",
        "                print(\"Недостатньо коштів або сума для зняття некоректна.\")\n",
        "        else:\n",
        "            print(\"Операція зняття грошей, відмінено.\")\n",
        "\n",
        "    def check_balance(self):\n",
        "        \"\"\"Метод для виведення інформації про стан рахунку.\"\"\"\n",
        "        print(f\"Номер рахунку: {self._account_number}\")\n",
        "        print(f\"Поточний баланс становить: {self._balance} грн.\")"
      ]
    },
    {
      "cell_type": "code",
      "execution_count": null,
      "metadata": {
        "colab": {
          "base_uri": "https://localhost:8080/"
        },
        "id": "7-1rQdQlUufY",
        "outputId": "3434c7d2-c505-4577-9672-105c29867102"
      },
      "outputs": [
        {
          "name": "stdout",
          "output_type": "stream",
          "text": [
            "Введіть номер рахунку: 0123456789\n",
            "Введіть початковий баланс: 250\n",
            "Оберіть дію: '1'-поповнення, '2'-зняття, '3'-закінчити операцію та вийти: 4\n",
            "Помилка! Повторіть дію знову.\n",
            "Оберіть дію: '1'-поповнення, '2'-зняття, '3'-закінчити операцію та вийти: 1\n",
            "Введіть суму для поповнення балансу: 1550\n",
            "Баланс поповнено на 1550.0 грн успішно. Новий баланс становить: 1800.0 грн.\n",
            "Оберіть дію: '1'-поповнення, '2'-зняття, '3'-закінчити операцію та вийти: 2\n",
            "Ви хочете зняти гроші зі свого балансу? ('1'-Так/'2'-Ні): 1\n",
            "Введіть суму для зняття: 700\n",
            "Зняття 700.0 грн пройшло успішно. Новий баланс становить: 1100.0 грн.\n",
            "Оберіть дію: '1'-поповнення, '2'-зняття, '3'-закінчити операцію та вийти: 3\n",
            "Номер рахунку: 0123456789\n",
            "Поточний баланс становить: 1100.0 грн.\n",
            "Номер рахунку: 0123456789\n",
            "Поточний баланс становить: 1100.0 грн.\n"
          ]
        }
      ],
      "source": [
        "# Перевірка коду\n",
        "account = BankAccount()\n",
        "account.check_balance()"
      ]
    },
    {
      "cell_type": "markdown",
      "metadata": {
        "id": "q1mgZYuFjB_q"
      },
      "source": [
        "8. (16б). Створіть клас Library, який містить список об'єктів типу Book.\n",
        "Реалізуйте методи для додавання книги, видалення книги та відображення списку книг."
      ]
    },
    {
      "cell_type": "code",
      "execution_count": null,
      "metadata": {
        "id": "z1W8DINmjQQj"
      },
      "outputs": [],
      "source": []
    },
    {
      "cell_type": "markdown",
      "metadata": {
        "id": "cCzctafPjwiZ"
      },
      "source": [
        "9. (13б). Створіть клас Person з атрибутами name та age.\n",
        "Створіть ще один клас Employee з такими атрибутами, як department та salary.\n",
        "Створіть клас Manager, який успадковує обидва класи Person та Employee. Продемонструйте використання множинної спадковості, створивши обʼєкт класу Manager та отримавши mro для цього класу."
      ]
    },
    {
      "cell_type": "code",
      "execution_count": null,
      "metadata": {
        "id": "tZQ8-tfPk1k5"
      },
      "outputs": [],
      "source": []
    },
    {
      "cell_type": "markdown",
      "metadata": {
        "id": "dzH9DdFTOxCC"
      },
      "source": [
        "# Вітаю! Ви велика(ий) молодець, що впоралась(вся). Похваліть себе та побалуйте чимось приємним. Я Вами пишаюся."
      ]
    }
  ],
  "metadata": {
    "colab": {
      "provenance": []
    },
    "kernelspec": {
      "display_name": "Python 3",
      "name": "python3"
    },
    "language_info": {
      "name": "python",
      "version": "3.10.10"
    }
  },
  "nbformat": 4,
  "nbformat_minor": 0
}
